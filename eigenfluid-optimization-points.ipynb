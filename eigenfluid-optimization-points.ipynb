{
 "cells": [
  {
   "cell_type": "markdown",
   "id": "04ec2bd9",
   "metadata": {},
   "source": [
    "# Controlling Eigenfluids\n",
    "## Optimizing for Initial Velocity Field (i.e. basis coefficients) given start and target positions\n",
    "\n",
    "Given starting positions $P_{0} = [p_{0,0}\\dots p_{0,i}]$, and target positions $P_{t} = [p_{t,0}\\dots p_{t,i}]$ ($i = [1, \\text{number of sample points}]$), we optimize for an initial basis coefficient vector $\\omega_{optim}$, such that each starting point $p_{0,i}$ will end up at the corresponding target positions $p_{target, i}$ when simulated for $t$ time steps in a fluid flow with initial velocity $v_{optim}$, initial velocity field reconstructed from $\\omega_{optim}$.\n",
    "\n",
    "$$\n",
    "\\arg\\min_{\\omega} \\Big|\\mathcal{P}^{t}(P_0, \\omega) - P_t\\Big|_2^2 =\n",
    "\\arg\\min_{\\omega} \\sum_{i}\\Big|\\mathcal{P}^{t}(p_{0,i}, \\omega) - p_{t,i}\\Big|_2^2\n",
    "$$\n",
    "where $\\mathcal{P}^t$ is the physical simulation of the fluid and the points over $t$ timesteps."
   ]
  },
  {
   "cell_type": "markdown",
   "id": "c9e081b9",
   "metadata": {},
   "source": [
    "### Uncomment this when Running in Colab"
   ]
  },
  {
   "cell_type": "code",
   "execution_count": 1,
   "id": "cad8ee3d",
   "metadata": {},
   "outputs": [],
   "source": [
    "#!pip install --quiet phiflow==2.2.2\n",
    "#import os\n",
    "#if not os.path.isdir('eigenfluid-control'):\n",
    "#  print(\"Cloning eigenfluid-control repo, this can take a moment\")\n",
    "#  os.system(\"git clone https://github.com/bobarna/eigenfluid-control\")\n",
    "#import sys; sys.path.append('eigenfluid-control')"
   ]
  },
  {
   "cell_type": "markdown",
   "id": "b771b54c",
   "metadata": {},
   "source": [
    "## Imports & Initialization"
   ]
  },
  {
   "cell_type": "code",
   "execution_count": 2,
   "id": "90623946",
   "metadata": {},
   "outputs": [],
   "source": [
    "from phi.torch.flow import *\n",
    "import matplotlib.pyplot as plt\n",
    "\n",
    "from src.eigenfluid import Eigenfluid\n",
    "from src.shapes import *\n",
    "\n",
    "# Helper functions for visualization\n",
    "from src.visu import *\n",
    "\n",
    "import time"
   ]
  },
  {
   "cell_type": "code",
   "execution_count": 3,
   "id": "fc4f77af",
   "metadata": {},
   "outputs": [
    {
     "name": "stdout",
     "output_type": "stream",
     "text": [
      "Eigenfluid initialized in 11.189207077026367 seconds\n"
     ]
    }
   ],
   "source": [
    "# Number of basis fields\n",
    "N = 4**2\n",
    "# Domain sizes\n",
    "DOMAIN = Box(x=math.PI, y=math.PI)\n",
    "SAMPLING_SIZE = 32\n",
    "\n",
    "start_time = time.time()\n",
    "eigenfluid = Eigenfluid(N, DOMAIN, SAMPLING_SIZE)\n",
    "end_time = time.time()\n",
    "print(\"Eigenfluid initialized in {} seconds\".format(end_time-start_time))"
   ]
  },
  {
   "cell_type": "markdown",
   "id": "dd925210",
   "metadata": {},
   "source": [
    "# Initialize Start and Target Setup"
   ]
  },
  {
   "cell_type": "markdown",
   "id": "139e832e",
   "metadata": {},
   "source": [
    "Try playing around with sampling more points by changing the `O` and `U` values, and concatenating $p_0$ and $p_target$ with the trivial points from each shape. (Simply uncomment the commented part below.)"
   ]
  },
  {
   "cell_type": "code",
   "execution_count": 4,
   "id": "a0787e71",
   "metadata": {},
   "outputs": [
    {
     "data": {
      "text/plain": [
       "<Figure size 300x300 with 1 Axes>"
      ]
     },
     "execution_count": 4,
     "metadata": {},
     "output_type": "execute_result"
    },
    {
     "data": {
      "image/png": "[encoded data removed]",
      "text/plain": [
       "<Figure size 300x300 with 1 Axes>"
      ]
     },
     "metadata": {},
     "output_type": "display_data"
    }
   ],
   "source": [
    "shape_0 = Square(pos=(0.5, 0.5))\n",
    "shape_target = Triangle(pos=(2, 2))\n",
    "\n",
    "p_0 = shape_0.create_points(shape_0.get_trivial_points())\n",
    "p_target = shape_target.create_points(shape_target.get_trivial_points())\n",
    "\n",
    "# Get O overlapping, and U non-necessarily overlapping ('unique') sample points\n",
    "#O = 30\n",
    "#U = 30\n",
    "\n",
    "#p_0_union, p_target_union = get_points_for_shapes(shape_0, shape_target, O, U)\n",
    "#p_0 = math.concat((p_0, p_0_union), instance('i'))\n",
    "#p_target = math.concat((p_target, p_target_union), instance('i'))\n",
    "\n",
    "p_vis = stack([p_0, p_target], instance(\"points\"))\n",
    "\n",
    "plot({\"\": p_vis},\n",
    "     size=(3,3),\n",
    "     color = wrap(['blue', 'red'], instance(p_vis)[\"points\"])\n",
    ")"
   ]
  },
  {
   "cell_type": "code",
   "execution_count": 5,
   "id": "18f472a5",
   "metadata": {},
   "outputs": [
    {
     "data": {
      "text/plain": [
       "(overlayᶜ=2)"
      ]
     },
     "execution_count": 5,
     "metadata": {},
     "output_type": "execute_result"
    }
   ],
   "source": [
    "channel(plot_overlay)"
   ]
  },
  {
   "cell_type": "markdown",
   "id": "1d77c17b",
   "metadata": {},
   "source": [
    "# Optimize Initial Velocity Field for Target Positions"
   ]
  },
  {
   "cell_type": "code",
   "execution_count": 6,
   "id": "c08245ff",
   "metadata": {},
   "outputs": [],
   "source": [
    "STEPS = 32\n",
    "DT    = 0.2\n",
    "VISCOSITY = 0.0\n",
    "\n",
    "def loss_function(w, p, p_target):\n",
    "    eigenfluid.w = w\n",
    "    trajectory_p = [p]\n",
    "    for i in range(STEPS-1):\n",
    "        # Step velocity\n",
    "        eigenfluid.w = eigenfluid.step_w_euler(eigenfluid.w, DT, viscosity=VISCOSITY)\n",
    "        # Get velocities at new positions\n",
    "        p_velocities = eigenfluid.get_phi_at(p)\n",
    "        # Midpoint\n",
    "        p_velocities = eigenfluid.get_phi_at(p + p_velocities*DT/2)\n",
    "        # Euler step for points\n",
    "        p += p_velocities * DT\n",
    "        trajectory_p.append(p)\n",
    "    # Normalizing by the number of sample points\n",
    "    loss = field.l2_loss(p - p_target) / p.i.size\n",
    "    return (loss, trajectory_p)\n",
    "\n",
    "gradient_function = math.gradient(loss_function)"
   ]
  },
  {
   "cell_type": "code",
   "execution_count": 7,
   "id": "c2aad2c8",
   "metadata": {},
   "outputs": [
    {
     "name": "stdout",
     "output_type": "stream",
     "text": [
      "Initial Loss: \u001b[94m2.3001015\u001b[0m\n"
     ]
    }
   ],
   "source": [
    "# Initialize w to some value for optimization (~0 or random)\n",
    "w_init = math.zeros_like(eigenfluid.w) + 0.001\n",
    "#w_init = math.random_normal(eigenfluid.w.shape)\n",
    "\n",
    "# first gradient\n",
    "(loss, trajectory_p), grad = gradient_function(w_init, p_0, p_target)\n",
    "print(\"Initial Loss: {}\".format(loss))"
   ]
  },
  {
   "cell_type": "code",
   "execution_count": 8,
   "id": "9939afd6",
   "metadata": {},
   "outputs": [
    {
     "name": "stdout",
     "output_type": "stream",
     "text": [
      "Optimization step 0, loss: 2.300102\n",
      "Optimization step 1, loss: 2.188421\n",
      "Optimization step 2, loss: 1.955823\n",
      "Optimization step 3, loss: 1.675970\n",
      "Optimization step 4, loss: 1.383880\n",
      "Optimization step 6, loss: 0.946831\n",
      "Optimization step 9, loss: 0.446085\n",
      "Optimization step 12, loss: 0.270110\n",
      "Optimization step 15, loss: 0.205773\n",
      "Optimization step 18, loss: 0.166283\n",
      "Optimization step 21, loss: 0.140022\n",
      "LR = 0.005\n",
      "Optimization step 24, loss: 0.130240\n",
      "Optimization step 27, loss: 0.121910\n",
      "Optimization step 30, loss: 0.114709\n",
      "Optimization step 33, loss: 0.108426\n",
      "Optimization step 36, loss: 0.102903\n",
      "Optimization step 39, loss: 0.098012\n",
      "Optimization step 42, loss: 0.093656\n",
      "Optimization step 45, loss: 0.089754\n",
      "Optimization step 48, loss: 0.086242\n",
      "Optimization step 51, loss: 0.083065\n",
      "Eigenfluid initialized in 124.82154607772827 seconds\n"
     ]
    }
   ],
   "source": [
    "LR = 10**-2\n",
    "\n",
    "w_optim = w_init\n",
    "grads = [0] #initialize to 0 for momentum\n",
    "momentum = 0\n",
    "start_time = time.time()\n",
    "for optim_step in range(52):\n",
    "    (loss, trajectory_p), grad = gradient_function(w_optim, p_0, p_target)\n",
    "    if optim_step%3 == 0 or optim_step < 5:\n",
    "        print(\"Optimization step %d, loss: %f\" % (optim_step, loss))\n",
    "    if optim_step == 21: \n",
    "        LR /= 2\n",
    "        print(\"LR = {}\".format(LR))\n",
    "        \n",
    "    grads.append( grad[0] )\n",
    "\n",
    "    # optionally with momentum\n",
    "    w_optim = w_optim - LR * (grads[-1] + 0.85*grads[-2]) \n",
    "end_time = time.time()\n",
    "print(\"Eigenfluid initialized in {} seconds\".format(end_time-start_time))"
   ]
  },
  {
   "cell_type": "markdown",
   "id": "88401cfb",
   "metadata": {},
   "source": [
    "### Plot Results of Optimization"
   ]
  },
  {
   "cell_type": "code",
   "execution_count": null,
   "id": "dee14695",
   "metadata": {},
   "outputs": [],
   "source": [
    "trajectory_p = math.stack(trajectory_p, batch('time'))\n",
    "target_time = math.stack([p_target]*STEPS, batch('time'))\n",
    "\n",
    "#trajectory_v = math.stack(trajectory_v, batch('time'))\n",
    "#trajectory_curl_ref = math.stack(trajectory_curl, batch('time'))\n",
    "\n",
    "#velocity_field = math.stack([eigenfluid.reconstruct_velocity()]*STEPS, batch('time'))"
   ]
  },
  {
   "cell_type": "code",
   "execution_count": 29,
   "id": "d2415632",
   "metadata": {},
   "outputs": [
    {
     "data": {
      "text/html": [
       "<video width=\"400\" height=\"400\" controls autoplay loop>\n",
       "  <source type=\"video/mp4\" src=\"data:video/mp4;base64,AAAAIGZ0eXBNNFYgAAACAE00ViBpc29taXNvMmF2YzEAAAAIZnJlZQAAO1ttZGF0AAACrgYF//+q\n",
       "3EXpvebZSLeWLNgg2SPu73gyNjQgLSBjb3JlIDE2NCByMzA5NSBiYWVlNDAwIC0gSC4yNjQvTVBF\n",
       "Ry00IEFWQyBjb2RlYyAtIENvcHlsZWZ0IDIwMDMtMjAyMiAtIGh0dHA6Ly93d3cudmlkZW9sYW4u\n",
       "b3JnL3gyNjQuaHRtbCAtIG9wdGlvbnM6IGNhYmFjPTEgcmVmPTMgZGVibG9jaz0xOjA6MCBhbmFs\n",
       "eXNlPTB4MzoweDExMyBtZT1oZXggc3VibWU9NyBwc3k9MSBwc3lfcmQ9MS4wMDowLjAwIG1peGVk\n",
       "X3JlZj0xIG1lX3JhbmdlPTE2IGNocm9tYV9tZT0xIHRyZWxsaXM9MSA4eDhkY3Q9MSBjcW09MCBk\n",
       "ZWFkem9uZT0yMSwxMSBmYXN0X3Bza2lwPTEgY2hyb21hX3FwX29mZnNldD0tMiB0aHJlYWRzPTYg\n",
       "bG9va2FoZWFkX3RocmVhZHM9MSBzbGljZWRfdGhyZWFkcz0wIG5yPTAgZGVjaW1hdGU9MSBpbnRl\n",
       "cmxhY2VkPTAgYmx1cmF5X2NvbXBhdD0wIGNvbnN0cmFpbmVkX2ludHJhPTAgYmZyYW1lcz0zIGJf\n",
       "cHlyYW1pZD0yIGJfYWRhcHQ9MSBiX2JpYXM9MCBkaXJlY3Q9MSB3ZWlnaHRiPTEgb3Blbl9nb3A9\n",
       "MCB3ZWlnaHRwPTIga2V5aW50PTI1MCBrZXlpbnRfbWluPTEwIHNjZW5lY3V0PTQwIGludHJhX3Jl\n",
       "ZnJlc2g9MCByY19sb29rYWhlYWQ9NDAgcmM9Y3JmIG1idHJlZT0xIGNyZj0yMy4wIHFjb21wPTAu\n",
       "NjAgcXBtaW49MCBxcG1heD02OSBxcHN0ZXA9NCBpcF9yYXRpbz0xLjQwIGFxPTE6MS4wMACAAAAQ\n",
       "9WWIhAAQ//73gb8yy18iuslx+ed9LKzPPOQ8cl2JrrjQAAADAZ+FPXpt6BMNF0oAElXx/DzT/xKF\n",
       "YhzemXBRsLEn+Ovpv9fi95h++QZ1znTRbRyd2gZhiwJZHyn+78wAZ0Iyp8Zo2joasHZr3vtmB0wZ\n",
       "nIsAMENnvmjad4Ri0CTM2bzIcsmGl3+mkUavqEHfAsar1T9JekHlF1uGDiNutplRndcC9Uicw8SH\n",
       "6ovD1KjNlR/RA4bnhRovu41JdEGHC7YUeHeJJKNWpEVBBuCtFi3K2pw1gSgfIBWUqQZ1dm+y8Jzy\n",
       "IGiochT0MXgMXu4nBcIQTLExs2XWnI6nrwDi1vAeQLY5lzlFXPA7AdXn4J9wrF9FVoyYFjD5sXlw\n",
       "QOzFyMxyk/PPXJU3ouPzvmEELYbffOTOTRHhCiZltpaQoSjKCdh1d7GoC5F02/DGlQKX7vBjiCUw\n",
       "C4JV7eoqPpcrwKobFGu4il6eGO77xWL6bNsXsCmbbiotgY4JBN3czllQGJ7YLgAgv7yh6+oJXsNy\n",
       "McSGhmXKbZte/TqQI6WL5DXPAjMgDfT24c3+OXYhMGqhUxbVL7hk9xTODgG13kstogdlAPnZewZx\n",
       "/jFxAos+QbaMkR+iqodukSdHqQoMMistAOqJbNW78c0pio4QqXMvQDSex71ZkPUBxqog917KPZMD\n",
       "82/deQLLsCjxCIoE2ONGeC8m8ZWMzK3g0ZEPQfGH6CWa0MgEBQUDPtPe2VmZ8uR6Syeb2qpklspX\n",
       "MSvVIeZRZxULj+gCrfXFoIXPLZYG6/+LiumQ4dmkkfVdqCqBse0w+QrZ6QFy2NtA6QEU57tW/gq2\n",
       "h9IoC7VidNoH1fTbtg9bJRmwmCGd/Rwt3FTO6xqbuZJsiJOsHTXmWvgUIvoVfGGPju2o15AsGsZM\n",
       "iWqnus7WnxtvepMW0wdj5reJiDX1IL/Q8WDxESMh4+x9gT44LnV1nXuJWfXPHAQ22pSGjrt8QD+X\n",
       "lkLgmaa8T/amXZme6oDAnN1ujGFZNuOyNDDq0FWaogiCZ6tGJjtbL+p5Ab/qHTmpsTFHvkSyiOkl\n",
       "InzOaLNRj0M1e+aJpW2Hi4C2j75Z5+PVnmPijOuNnf7oB/ObHQ5fBgW4FfelTWZL6U/9+5taSg66\n",
       "FKdDulOWgIISmVcG8QOaegEhGfv9rs3eKvlwCZJevBc2KJD4DalYObl0/HmYj0FGycLwAqvbHebx\n",
       "Q8y7rUbniOiP9RtgIbn+BxlPU3yGBYbMg4SWf3esiQ+lOLdFkGjs85oifWDij6m8pSZ+0ThiCt7J\n",
       "og2ND/IL9qwOFahl4DqI+toQ7/6srip1oyYj3xs2K0SgRzgs4hCq1A+w/dfOVpHaNUbWbdn1rSSV\n",
       "eWozR3194oiqqjutQuhZRFjE3j/JhoMeZIzDkY1FC9IddZ3jwONA7dUKztMfoe5odBnSCv9QlFR+\n",
       "d4ilfnUScp9veg8V6YmSnxj5pKBfiMZqYyxZwmaZu4JkgGW+pmBcaMLQo5E7QEYk7kQZhA/pE7sd\n",
       "ZJ2rFr2BPFm4a/oOC1X/IXmP7iD4u1ivIpWFuuB/MBm267HY2pFuWgKCLfNMDeLAidSroi/lFDNq\n",
       "Gf7ExH0O+OBG8FeXkLDixY+3oJ/sIQFgcoCQiI4PWp7vbXYdHqtSp5feWRfmvtl+IO3NMQ6Bhz/6\n",
       "bYKf3CSNf/cItP4kfyB3jLTb+MGY9tlDQnrbCrwHtYd2hs1H8jDONhgHacU7TUHJifn3jsd7/jVW\n",
       "WOnkTkwzTMauzzeBkjHDoik7M/TouvGQ6+DAxP9T8lLJtdgQSxnYsNsjvaZ4fk1rrendVQYi4v8/\n",
       "3NH0KG060Hz3wSVWhiKtj44gP4WpYzKvWN1YuMTwxN6dBcZLN1PDzNv6L0pMjhVV/hixdYH8k6MG\n",
       "AufHtn5iECFRJo07xSsS9RgSXEzd7Lfsp8jicpBg2qHeu1rEyT5QkUY702n8kPdMj43Tkq7HJFCc\n",
       "QhPXgff32h1gvex3ZXCxqBrWmtd3/V5zBBPWTwKC8TAGVcf7XpDieIBGBxw/bWuFxXYIzXuFJevw\n",
       "5SNLpu8ox65+xwgAC4Ht8MmtYtLcvoaIo/Kd8cikrmaCBNMQdwNePn+WbiQqIcln18Qw6amwMsNZ\n",
       "IUfft8RI8rAdO1fR1L2bY9jXL38HyV6DZfrremFXgFE8ntKMD4MHuTwTtZrHm9ABm0ZeexrTB+hI\n",
       "GYE7WE1rDmWV6drbPr90vRW/AoRSp/6qSqD7jwyy/pBzwY/gqYLR/d6EMqNC3r1C0d7U9r8QuPAn\n",
       "69zQT7KHjhpqa8Mr+Of7D75IA4sQDn1Waz32Ojppz6hmu98Lk6S6mReFB8JojdGhij0qccOZSXHd\n",
       "oH0mZI/HHpq7rzHa9Hbfu7j5+w6HOZciBhHd618n4F0PIHsN/OF5zp7edg9r47SNpl+2LzkwmOtQ\n",
       "qjNpfimXXr5NPkWwOBQwlRloslzkNbY//IOpNGLCryiO/9ooRWgAkiBIGHRb+I9Wgsyt8gN28iaF\n",
       "UmRjUwbZOh7bWJtsEDKdHQR3ztarLU3Vc9xxOS0RZnMyoLIvd5/9f5gdeuV0srDfcL1keZ1LyvWR\n",
       "ivQfC+VW0CSQ86Txciow8ZtHDvvtV7l9muTzo8FmJXz6qY2HabS+1/mCQ3SCofTAlsMGaDuc2cQb\n",
       "zvByX/IQ2L2Zpe25koSMXkUPULzKkSSLfKEfxPY51qYBbkF/NJj3KanJfC1cibvmVbpMkEZSxBSv\n",
       "KnWVPGU8C+7rniziRUFEwCrs86LKAG5sIbhvtalShCNzIraOX1E90h6wZXFluAoJFu4lX+K5jbrl\n",
       "y3ObpPZFUJa9qmB9gGlciUJUjsCgCu3GR5nxJaUFTZ0MUPSvTOGjgynbGUvQyhlqlVLS4WCjx38h\n",
       "qHt3jjNQSNmAVa9X1ulWdeWrAdqE6wBgduBF1bknsA1a68G9NcJyvZVc0GYYnOE9wb+EJaBLbPh+\n",
       "/eifqFZhilX30P9iFavnyOTXKLFckxkqQRrQc0VlwX10Sye4fbSOeaqPf5qLddZWLekbhah921Ac\n",
       "uZBq7yuWnEmaI4RqxtwrQ36tlyRACV7FjQZ1hj/cV5YlwtCDNYaxqJ3JpR5KSISuw8c5Z4n9FOiD\n",
       "jG36GUH+A1NXBk6VYb3Zk0ip6j+fpkASQhkbHSmgvaN6qpBqYxoPdJNBOOmXibZQIWl2V7VtNx1r\n",
       "ShA6hq+vxO0ch79qY/vpBt5Gd/dRxmGRKKxfHy3hKf4GarkVoj5MmTRd5qScDDGDMQqUT54dsuuZ\n",
       "6wkXu4x4WwTYhFLWaF4r0mmU0Essz4C5ZyHzuLJZlRJGDy8Wf2T37CbN4i+wQzPHsF9bTukd75+B\n",
       "SzcKzOGTON5IBsPn5Rbx4pDSIwdC2o/QZr42jhUEris3JcfA3SoLIdiBpVTiF/iEcIEHiaQetoGi\n",
       "S5nhwywpSOZKMVqH4Y1yswGAa1tRnmYn9tUXWjuTXfeJRwJ2nhJa0xx/08o9FBlp2Y2zAesrkpXv\n",
       "75TjZ2cpsmtuo4DDrwI+Z2An/wBf6ARB+2m5J4AilLzT1OtzB+42dA/pbp7Mt/Thbs7RD4MGmqHO\n",
       "5ZciXbfQ6PKJcGfKoU5fxQQXGeWvytbE2knD+7LpSjl0cWGEFSJd67Yn/oQ69RKbwBa2RGq5Wg8l\n",
       "qTAAAA0R8eNNeC+mQtAdeN9KmGnjqCyzf/k/1U6n4AJbhJu07JyI637YbOkCqgCninFt/36brQJt\n",
       "8kgEeetyTm+iVTmfSt2RJLiQDD0JjlEjFd9OUUnMV/aXULXexAUDO1O7KtRDTVL7j4lAWNPWcnF3\n",
       "IFnKrHzfG8lwTuDNhx3HVmMxEo7np6fRa2J3U98qE5TEWD2V4RWv1Ar+U5h8JOCBbSLwJk28FwxL\n",
       "xM+arsd52XyWXC85gDoRRXuIEgM+9Sa8uzX9d/SbCC0KMCccwuJ4M3LRy2y87TnwxwG9gGTVU6Ta\n",
       "aztJvlWkOehFOibe+NVofNT5KL19fb9jfL+dqUf0XqLGnvug0m7smvNWg/TZNs9c1yofkQuADl3J\n",
       "Daw64D9f77OW3ZHihT815vhE4vmytv6LhcxQSzMsNd1RVM8hF2ICsmewRUv/im6Y40BEvrpLTo7r\n",
       "V7XBNKNoDwGiysmxRP//6oW1/w6gI++zKU+Tq6qs3Pgzwb+UIX0mGfuJ06uhb5n5UnEkDpQBDyat\n",
       "8AjRYpEc7Ori7lIRtzl6n2TIh0GF+i3FI7YROYqqljMc1PelpWfyDdeIMHyL+zzX6dtsY8x8EG/H\n",
       "7rN40BguiEL9u9qwClN6Hp2Gewuxs/RjV7p1ye+rFgKcm70cPAOxlqaOGaS6xy7R0wlImPKGjDYq\n",
       "M4pKifngHSbOQnXYjSZcPXYReFu4ipgy1uxM09F5vAyWGSz4nIx/dwnIeWKUcgSKKfhtBFVs3xhU\n",
       "UJlpKU9I1srw2Yc8GQda8BR/9nMOBTm0BkcRBm1Z59O3TeDiW4vxl39R2YKgrK/x4QKmFHgVty1n\n",
       "kyQtF91zWD/Aod8IiUKzDk13roRbBv8UaBS1GRLvBKB+825ND8jwlgqu530Ms5FEH1lhZ26Ix652\n",
       "qskJCebzWOar0uV9efhYJL//6/gVgl99ky5ERQg8xY3MFIjcDcYgj6cNIdXLwWZTcspIL6AMWlHd\n",
       "5aw/+Ez0w+pxrQl7HFH2FYWVGmLSF5R16fUpwxGriMxoJD1h7X/L3dDpG20a4LuJLyHmhl3IqV1Y\n",
       "i9eV3OdvSr9L61IKqv/xE/8+Ltr0m1VNTUvFMObTJRQQmxzRUI+CCufQvnWQP4UCkq4JKJqDx/jr\n",
       "sH+JDhzlHlrrMI6fZjDftOFMoFkg7Cyqu+cHm0OY3EN7iqkDPFoP9YADOTEWHQStogbwkPxojX9K\n",
       "pwFy4ldwB71YsPYhquWGu9LHbq1lufQ9Yu7JUlfB7C9yk8AM46AWNwDXz+9ZpvZnlgYykDlRJpoq\n",
       "9UQbOpOtizHHdXB8ec7NBtqQCFCcWOlnH6sy/c91lG3VMdObewfbXhI9i5sRztKrDCMd59GihAwX\n",
       "qmjCWI18KvI3ix9ncwOOyWWm3q6H08r3+xLa1V/in7YDcUGLyOR/U6gWexLCB9UJo0BNFadScz5Y\n",
       "lTcPYFEF2D3RG1wW07BmmAEARjj1BgVuz9Ric9lD/VR2Jqq7t8ERsT0Ja2pirCzH5l30zClni5dG\n",
       "SVHP6m5Xc2G3gIMyLDe1pINCfd5aMnBUP/hQZLEiLs2Ji/cVt2cxHkqlJIJMznx41MZIvOsLldmq\n",
       "ftN26ck5LoVoFb1cuEilWvzQHtKEjg6x+0mSYXW6Euo8oFydtWriVwltsdd6UrcMXcX//UClQzc1\n",
       "DMTlBN+exo26gLQdBfeUjade40SPGoli9hYVxi+CNGgGZ+uTgfWrQxF1+e0GjzZfUNwYYLgQ3JSX\n",
       "FQd1EEGtogeumeooVMraquvJDu2gGsZ//+v76VKg3G5EDlc3joWW6qWuXfu6Lw4sUTnX6VXuzxw/\n",
       "nTA2mU3ltEExrR7vWsZmP6+JxJaF3ErjzPlL3f197PoxahyoF4o9pwFBIesylLvcLcCKvRWx4zj1\n",
       "kpvcteil+4hMvbbRF8hmNEHKfeuFkF97hAo5EAIQMv3vfl7JvFOMcTyuMGis2/1SSxNymejOg4vo\n",
       "vMA6/jEhE0vZtmVeHMZMyNdyAKtfYAJPkWmQ4WlPwgl7LK4PFfKoqF+JoVrhFEUtr18HL1Qoae2n\n",
       "3kT/Kg9k3UYXcxbbC+VBONxREY/iAEhbPPzvrTTNHNXRMBl+CwluaM2ffydeagXg2IC4OpePV580\n",
       "rGXTqVugRYD9gQAAAUVBmiFsQQ/+qlUAEYbg8QAKEDXHMzEe+Z48FawWd5Eb/ba8zvPApkyzwJe7\n",
       "LEch2KPaVV+nj2z/X/GixpGzs8nmE1RryuFNuXgV4zybO8f5LzPtTvw59unv0X7lKkG8pJQFaRhO\n",
       "NnxLgJ0ENuCmKRA4XjTit0gdJRHUVhq97SfN+sJNQNcEMyIMNCIvkMpDoD/KwTiZp4JWLyi7VYKp\n",
       "7b3tY+Lb1Jjs01WORfHHURqnMT7q+/C0ue9SpjOCJl2CUs55VqF1XLUcJRMBehEdZ/DjmQn0NhUb\n",
       "PTuk5CdxLcBpFdW5yPsNxFdPoNCTbptxqYcD4PBcbM/HmUm+4NCND9ugJ3tphFpGtbsGZ218ohnW\n",
       "Fn9SzSSID7woSJcs7RBPa2sBo9W2dTiNqZlAiFUHB3j5QYSEVXRQD4e5WNiRbsg1xrsTXgbQAAAB\n",
       "i0GaQzwhkymEEP/+qlUAABVOG+/7VRnBgANFtlwMOYnVRmU5G0cfOAW+U4YjjCQAcyX0mvAfH+S/\n",
       "bOapiaTdC+D2GH2uFoT+0Qvabkei+pkvNCshKUvQb42qBHzbYJelsS4YCTM2OsdoFcTfmJRYCCfB\n",
       "mAh98R/QO8RMNADcMgS6HwoX4/cObUvF9leA6IHp5HcnVLyjS4HU1RT/rdJyOyI29WkUxz31KXnp\n",
       "sdZu5xd/Mxvq1u5kxTq5O9bxd2ja1qF+qNKYvKMzB05Z4PFh7COnbDxn5zp1I4KNJ7vLr4fVP9Tg\n",
       "CxlAdoZHbPKtw+mSDEEmOrUhv8exsT4eSGxjQku974xIEOlw/AMJa6k2UPTrWVju96WBFA72It8a\n",
       "zcLngt7ZcI0VHcIcqlypdgv/69tdfWC96+l+VUo+rzoePW1cWKaMrPaLdoyuOHGrrI9ggmiuiTef\n",
       "8XeAbo4OtnyQwIIq2bxscJOJLB0vmTlvqbeK8kjqCp344rL7c/ayGSkWX35vou0fcMTh4Q0xAAAA\n",
       "wQGeYmpDfwAAOgOnhq+WMAM77iQNDxwzUROwFIvbxoJaKgt2nXunafll8p7PmXVb3s/yOdiRAi5+\n",
       "syA1GbvKVwBonqhFnnnCj6U9dZnzEnoSUdd2FhN4QOopxv3NaWPoh5L/5/Jkdq2NrMVvlFH6k9YU\n",
       "X0k3jvvVn+0JgGHNOUwMX/YlpCanHBGn2WSHXv6ma7XuE+d/zSbR+hlujEOrLyqCq24+IeCgAVOb\n",
       "12hTa94mZYDVis3GwcpGyptuvAEdRcAAAAF7QZplSeEPJlMFPBD//qpVAAAnPLn8fjSQQADONzp6\n",
       "Tcax6r09L/HX3k1+fvE681HX8F/Ek67I/69u0ZiSiu6Mzvq97zaniwyXhtCKwc/myfjAGGWEardz\n",
       "nDfZk7pUkrrWJlzoyqD4MIM34TM2nrq/6uMjvD2+uzMPvVXB+/8aARo5eWnTVJs0xnzWC53S8xfK\n",
       "p21qRlXYH+JwTb6KMfF1110lAFadCiEnmf24AAa/3GfJkDmbKFaRLFEMQKcVbpNnlz9oxmWt8zxI\n",
       "NWetKN3MSDRSZrvCMcHcFQ/mWSq8PRHKj4SrB6lD4jV1x3z0MUZLhPY4sy1B1gxxr2wFi3v7tq5j\n",
       "Eo9arwlLCh7PQBc48eEN8jA40ERFicgLvoHd6KSt0vlPoj4X/cN51dNTuNeVJqp1ZGsnaZghQmaQ\n",
       "AdVhfM1juCKAILLsQjrtwXRIts26smuBZvBiS99ofe1riQ0xp+puSWR4mM3h+DFA8VZK+JOFMud+\n",
       "qeJLoCRAiwAAAUABnoRqQ38AAGsOv55TO8cActAZyuHlk8Muu39GqzBF8u9FQu1gr/NWlxM3YIJz\n",
       "QimyJi3sjdzGwquh9NA7dg/w9HuMT11R0m/YCtwj7YVoAo4EAuTZLkYkcGXbwMhYdiR0PU2J6+Ju\n",
       "31Tspu8WHe+hot+TIOy/x0qmc+ieCM7iMDAEoR5e7NOaZ5G1AKpIteiem2cn7o7xeTl6jdn9sNpS\n",
       "09T5w9fSzfpfQPKT2N62xgVSm1IkvXIdeFTUv4JMh4Z+owNtNwnnCdwS79G9KrX2vR3NxRGmo6ef\n",
       "o6i1BuJoWNYR1gAO7/llQtpSVDwyohM4Cu62GuBvIs0rQHmpKjA3ioVkNj1jxDPn1R8zLyNuUSlF\n",
       "LuLZTsr/34pelqdIp9E8YjREm+v6q0/GIHZ7v+SHs5Xv+TEGM7wJyLuO/VgMCQAAAWZBmohJ4Q8m\n",
       "UwIf//6plgABEeV/+kaGzFgAQlzyV3AISpE53EzhwbJH4Ai8QhGIkSbpLD+DeEeTZT+mepe6Hchh\n",
       "5ZYVM6QJH53U5XVOw5IgIhnwfj2Ghg72OrFGAyZR4H7dpeSDyRu0tTK7Z/Y+pvsvE5Ux2rKuJKxy\n",
       "Ox5bhBvo9BTWF2BleoBU09TOMFa19NTWpYmmjD69xpqatHch2HiRCyv4bx5dMHePTd+aqCDcoVGT\n",
       "8wcRzxCzmj5snbw5Sm2fMNBfQgD1RXLd4rSasven4ggf8OTo26eRzifjrAymJ3Kn7yStVravAr/e\n",
       "6A8SUY3PQvEwhV/Z96h/rq79toJRqLfu2ZQgFadjG2io9abq20igh1XqWtAkAN8p6PJSuvZr0vEp\n",
       "mSovetG7YskpQ5eMZILH3kxZT4ftYkYHmV7lcCRDW5u3P0S76cgCYDiz+kCWv8CXXM7BZvcQoux9\n",
       "En6izfhSDo7RAAABP0GepkURPDf/AADEF2bJv5vKDJtLSoOXhmAEDTU+bYAQgEIrYahR9DFYTTDh\n",
       "epY0EVcff4bMPtuY5SJ9FQDlU6IfN4xUgV0GSpfmCVGXBRCu9MiChRjGgS/JH80/f6qAMTLgN7uh\n",
       "B1GvWyOml3XNKF+nv8clbUucdxY9+h2Fz8uxy8g+0B/hmsPHZoj228LQWWPKEz9YfgSddcomX3pf\n",
       "3MZeR1rG3E29S2nGbQiy7kQOUlWwx7HLisZswF8RdZMXf/TSDd+2oKz4P4YbX/Z5xmAFaHdJKxIy\n",
       "/9F7imFfQ6MN28YieAIXV1dapDR582V48qPbYxEd31LBDk8XGnfpmMBcAN5SlZReJEmneQp4ceTE\n",
       "XRiiGZ7ub1vBuwr4d24gTYU0nhZUugXEuuygGP7cZ4c5ur/PTItNYrzBJ4nNNmEAAAEIAZ7HakN/\n",
       "AADJcNwAt0/hpettLmEg5awkw/ram9CTgfbqdjKdaA+HU24re2f18k5FSaYJabW57nPzSuaho19+\n",
       "/q16yLHjTl7nWmbQjg33ECnYnF/9GZu8Og6jWYeaNg3BmqjKAeSjg5lqtLZfg+4kF014taRrQeRb\n",
       "OQWZutKwVWaVL08z9TohZ5Zn0Dj5z8effPVOzY5taDKNrV5/XIB08QB16uDPtn7wvi5fs9ehAvU2\n",
       "iE87RYYklG+yknLB+ucynZgnp8ekAb8QGwquSt+O9jCVJ2pSHKpnNXcvfu4zwErAylcZkEjhpcp6\n",
       "DexCo6v95Q5j7PaHl+vUHWkXVGmpwNCcqrTQkN3QAAABZEGayUmoQWiZTAh///6plgABEDFePnFQ\n",
       "AOhHFK8K/b4twcWLKrVfVSx2oKy6UfIfM8DT6neUNhjIKNTiLAOj/OdvHHUU+uapAC5hUlGYXiKL\n",
       "UuZ1GGn+D/GAzDFtadbywPRoZq54H2c5AqodyqmbLBK2e65w6aUNpFjT0DzIubB5ErjU452wHIJd\n",
       "m9Q8aPINH5CTkYDDBO1mZdRYDm7BWlXJZGzpRn7BPJh5ECfr2DtIPlT8wfqr4QK0W87d8MTOeSG+\n",
       "0R9FtEM1J/pqStDKjnLAQByt/dfNCLpN1oTFRQ/NJjwbSaZj+O5Kr8EXs25PUrb7JKb9C0sG8BnK\n",
       "nvtA2hO9iR2Io1Gacv9TRpYfuWFsKYutHWx1k1meI6/IRVI2jotTKuBTAWAcykUM612JsMhE3W8a\n",
       "jApf8QMHQOp80dS3O0BOAd3YLPX8lyMeqITc71AomHYZS8pbVyiplLc6CP7G5FjBAAABBEGa6knh\n",
       "ClJlMCH//qmWAAEQkm4+FxddABD+Ze8fLbqP2Ecqi21349TOehQWE/QEove2mhvm24HIGbaO6I8r\n",
       "cTQz9G/iOB0bHim/Hf8slGXPuEB4XVVp0VPZAbEj7iVl/1eHD+jwfzrHbputq7uPL37QSztZLIok\n",
       "mFV9okiAu600FiJcZM4BELhW9AYZarsl5LqRH8A1kMOSSQ6Dd/Sv1bMkm05S1fmplzMr21jAQp3h\n",
       "Va9WRyqKMlfo3Sq/EaZcToWNB0R6sRy9L1Fs+MEmE5QtlHNnZDy01ZUlmDj2GdzCQe5tmzK/TQ8x\n",
       "AXaTrQKU8y1vwcqmCEXN4nswcfukyKIffSxRAAABYEGbC0nhDomUwIf//qmWAAID1b2H1CDfg4BN\n",
       "LVTHoFRHwcfC7S/AnwiqVyrPfvB1LDc+vH31PmOEPrNu3NJIRsnamTWtGfcmiNJHL5UMEUrcJRwY\n",
       "+SNEOsQYwf1Rs22F20c0Oj4cbevLvz1iAX51AdJuSROTSheTEjNEVMFXHP74+zKn8Pbav0mGLLUA\n",
       "WWdDM65Kz0lvCVeyFe4ngaz/FJUTBuatKNJgDRk5mVPaAwbVKJO4E0PlIm5oXlJXcPBlolHkjsWM\n",
       "mdxzX40EKcHk7nUxd/mhY9kIX7Mn0s+5D9J6YD0JY+4joLLr9BenaxGdNRoY2dKVeGtDb2wCiZeh\n",
       "WTai3KRP9RgQuYj5Rl4swZGLXAlZpRttRQ/hjiv3KxyfaoptKfUidOJSDbCfo4cRa6Mc1aXxoc8Z\n",
       "64pur2J678cQ+ngwjbgW/ljqemftF/fRO2Xvcq0wZ358GpaRf8Nqyo4AAAE2QZssSeEPJlMCCH/+\n",
       "qlUAAIAbJajufABD2PlFvxSJeAJRX9bBljjGE+e+pcGoVHqwcYx2BspsV7+ly2MdkI2FU9Esw7uZ\n",
       "Y57vWvhICbeO6oVOtvBuVbQNrJblRxibFQqe5t5LOdoo9oT//jtXQ6avVwUfrXtlFnIJr32PL4Cv\n",
       "eM+aiK/PVaW+agIgruDrNGpqD9+Nie1oA+wL5xquAMZPKPmc5HwO2z83bfU2npY2slFD4ApTweUu\n",
       "VNdYbKwCL52CG6WlJzcIhEYFTPrt78T6RgaQmOYM5NqwJXulcqR4Om+7jp3NjcwMl3nzlq8fZaO2\n",
       "eMXe/95YrMqzySCPVtC7kp1/K3PnUetnPcMXL0aQRhfdIbVzO78h++IAESUuSOoO4HE1Xwk2/8tq\n",
       "6bFoN4mh7aujLs2rYAAAATFBm01J4Q8mUwIIf/6qVQAAgBsdI9EAAOc5dJ4U7/n0Ggncw2/IsiWt\n",
       "PzCZVDHZszRP2Q1dvhT7gWvMXGCQeVzRc2a3t0iZiyVkkvf6jTjPk4g49iU2UNwHhk0PEEQu4JVH\n",
       "gHviSkQEDno8J6OplWwA4rfzBEp0KgxKX0jkhWFvw2GUnRJL50AKIBEVuF+72TsjMlf9C9s57sfx\n",
       "3u7Lfc3LEzv5y5x/JASYZC28IC3x4CsQzsMvfr7PKYR19JIgyyNHm2QJiqX91/gLE0SX173khm9X\n",
       "Cox8VvkmYda39SKuxNnvdTPCZtLJUbsw4CldbGE5x45C5n1doc6ZLmrzOF+/uP30494bB7MFNUDK\n",
       "S3tshe9AI6A+IozcG4TwATL9B/5PrP+fTe4RnVjhfN/fx/fY7QAAAf5Bm3BJ4Q8mUwIf//6plgAD\n",
       "pHEqACEuqYO9+2KFe01KiPbzYzV//R1kS5xBvkgMfGEj6W8c7lfbYxeks+mQ/VIOj0iGXYgRH5o1\n",
       "33qQz06K/Nwocf+j2C4v5WFLzzrv9b5IWvXF8IDaQaadRIPNsVslhF700XazBCVC8cwcbuQ2S3wR\n",
       "BT4JUC2pEuOBN5gkpEet8axBIpF0F434mwH1OBQFHb/jUY+PY5jfiRITe6DUrZzhskDQVryDBr8a\n",
       "Nnb9Xss0F6hjwdqtJS/2lGKEyi0qMfOgI2hjiQpnQ6ln583XbxXID4EsXKKB4B8oRwkODYyjCSas\n",
       "m3ye3ZWZD7eBOBKVQ7ES2hNkXVfTfUSUCXeP0DQUpoR2tvwToDiByC3NAROEZygAbt8nBE+QH6sW\n",
       "480h/+MRifdhxnTOGFEeTQ7SNARQ1vNlC9X4DrW8cpZQm3dCVhkTpolwDerEu874PyQUNWI+7DzJ\n",
       "AYgw2TEPRAZTy8qBFz+1os2WWh2rpvAeDvs0rh3pmYywjLA9IjWwJnspkvPGNoB4vp7XoO+nJXWx\n",
       "Igea4U8TiHu8/uGa4yshnbCorgXcYSBkPm+mXpX9ka2xiM9uB90S4hEfr3ne+lojbVNIMSTL+B5w\n",
       "yaXc8pt46YlJRk9MCFrb72K4e0tv0XaenKYeVo/Sdau0ND4gZgcAAAD6QZ+ORRE8N/8AAqD0MXS1\n",
       "iuTAAqw7tulsHis77qXHeAONxmjJC6zH4LHmmwhGcr1s80J3xgaMwdpQLrlrfjt82bQMtzO4kGKr\n",
       "vds6xb8RcFxg/EQXJ9wHOHH4H9zSGj1zaBXrU+LsoYCn8+BBTG2YFLDeGNuZC3bf59rZRkpHa8vM\n",
       "Xw6OFpYIzV+PcVA7VZH+e2B97qHCFZ7ejTeu3EL9nFphRywAGrlF6eOE32b965+JM9U9N81QnTTd\n",
       "rn/vsuqzTcI9VGBTJI4C0qc62A3jIrdSlb+vSM+2b29ZX+w72QanWPZs06PurH5RjbZkdCwpD4I7\n",
       "55gIjAeO6QAAAKwBn69qQ38AAqD3M4AiTGtjaEXle9yhisjnxg+Q39KEdYKpaU+YQR93J6ViXR2b\n",
       "sAqVPrNzIb1tlfW/VvJ9lVmQUzN7U/fHjC/AArJgFzZgXLO+aj+6AMxPyGcXejFQf7q2AZBEFxLz\n",
       "uaqFq/g1V5RaWJA5tFyPy6eyN6LwQNLNCJAx8+ZUTuT8OwAP8FO/W+H5WrQXieQ8pU06E2p598Hu\n",
       "cZ7kSYDTVXkUgSpgAAABL0GbsUmoQWiZTAh///6plgADp+4qF0HgBCmpdoCiLp4kqb3fsq5dUrBM\n",
       "0ZmySnS87hBQQgwYZ2rDQFw8xSFNqB7ihsDurY6axcD+5Pm+BA0xbaHIf/V7uzJedLar9FVWEIsQ\n",
       "od38sXYVMzhWMrTp8hEp2EQs2t49OFC005z8w0Z/yTAscR7YX5rBQ/mU35P2NJVZk8D+bxeDq6BO\n",
       "LuEki/QLq7aPkvj0mHAuSCifwOmox9CvOY3N9J2O62UIPSr7xXtP6eby5nz1HjMMj+yFu767usyj\n",
       "yxSB590DVj4nmtpSWnm+7IwlkMTb8BNcS1det58po0nbsdPjZOnMTk1RroM0iuE4eOMgvqddCzvC\n",
       "YP7t3E3NMWGlMSSudmMGdvnjfzKMOJw8bKSFcAgDOohfgAAAAWdBm9JJ4QpSZTAh//6plgADp9Fi\n",
       "HO6EW8AHLkqBZ6dS/GPhbmKlNxWOb7wrZy9jji7cmUKfdUqFCFwCjmyp4gfPWyL7bCWij5wqYcbn\n",
       "SK9hfcb0P5/F+4wu2dN8+Yy+IV9KGuyISwLt7lPzIe2i/6ZgoOD9U4R37h5/0B1zQJlWqO9Ia7Rj\n",
       "8v+ZwnD8e/wbQvpzybcxY7cbmcug8vpOmVCGi37a7x4kbCsNWENOCgsqYpp9iSzXLb97idB9uRac\n",
       "MohIWOQsDJpvUVroJ/o4XSuO5rZN83R3eiOnUlaS9qrtq4qFEiESJ30hhFbllnQ9fSuOqjeYsuq2\n",
       "73z8LwuomJCDW0pG0e9NBHd4skUVHdr2BMZ/INMfTCUvTtuujp4kF0wLqXsuZ0pGseGmpx4s5OxN\n",
       "4z+NvlaKBIB2Hlf/g2NJlVPjjPtIlhB61tbbPwX85jaZfiSWLRXFSxnM1k2gaCvG+sO7AY7FVwAA\n",
       "AXpBm/NJ4Q6JlMCCH/6qVQABxz5PgAh+2zCpxhipxqF0uwAxsNGNP9S85a8EdkM4KgW8ZcX/YK8R\n",
       "DJvCzYJUgS5x7bGuvYVNaV/XYr/XBbnZ+wMW0+8TEehWB5/+acFSKIz8TK6svbunvIbe9JNxm9T8\n",
       "N40HwUTw/xpVi4lp2AjH400lFpxzmagPc7LNyH/Wr7ALEXswI1KjPbJ4WO8MpP1dJWeEfHP4QdVG\n",
       "G9JAbAEUZADC9LecjYz2r4N95i7xgrr41Fhp1z4pnDEY/H33gWG/lrKCBAEeiEQm6Mm8P9H7+E4x\n",
       "+Tp+WKRhILZJnzbVl26T1Zh+Z9kB9rQDDLYTadjdtKqfVn6ptxWzq6s0XqBhSMpk3A8gu74nSat7\n",
       "0LShI9ZaYHAppZ7JRA2bEQG7MfWWt4KmKBUKBwHAU4xHN3mEzughTI5Ho4N5Pl/JYIziFJsT9TD5\n",
       "JlUcUdZ6OvlrD7ko3KiHxj8ynRdSbQUvjsB8i/pQkzNIIfG7RoAAAAFdQZoUSeEPJlMCCH/+qlUA\n",
       "AcdhyogA2hEK+DdKuFPt9BP2HlI3z0vvYYmsgXUF24EgcvGdxzylvRsTEck4V18UiCDSbUfeK/2A\n",
       "3IQJj4iHuuD3nA7kSIj24YgGnZHeN//nRksU7/yfAcI+/zxaM47aEYV324lciJS+npHcZxO9nnP7\n",
       "ehDVijFDKrBaLWHtxUtjVUzWdiTTE33m2Un6iXfYgWOXoXJgqENJaoDiBClme1xt73po5wr67E5C\n",
       "26/sODfZQuEyvFvNUlr0bng5m0B6a0zI/SwRkkX9A0QDqCehsG7iezCqNBOrhX1t+gGLK61r/MUX\n",
       "Na9hz2IWVOTJbA7FhIWG30Vpcc1P0K913D2qdldFFN5Zu+WSh6+HGIelGiGPzl/uWy5WxEloWoOw\n",
       "NZFYB3MD6rj2SaScu9Nb7qTV7ndDRmi0zZO97wwBo8zMsIKhkHDcLjVC9g30F8vh8AAAAg1BmjZJ\n",
       "4Q8mUwURPBD//qpVAANRPnZeg+QwNvr9CHYHusHcouRv2eH3eHmC4ELi8rwbnchTe2swIiJYLXTA\n",
       "s/TUzuWnD0venEHe1C0W5WT+raaDaWp2z99iUNDCEC7twQbVwW4nLLDaAH/RzgdLp8E9rCAKKV0F\n",
       "/Mghi0jTnoLnM7NMZ7heDdJQcQQQmC3RX1PmZxnfaIimAZinwOuPujqBaKO4LXzZ0GBlalcaHHGO\n",
       "MRH0FLNwjgldDLYNgtyAJBx+jaUDG4/s6HVsj41P+QBEi6VleGyfJ1EjdxAAzS56jAHUsTYkGMYA\n",
       "1EFo/1J35aAzhxw800XMsEoykl8dqd44c994YIOkI1TEUucxT15TdljBR0/Kl5xKE+U/R93TSngn\n",
       "q4LnizxmrcU0qc1V3dTa0Qhdmhra93O+yS+s+9L1DQ12boEL/kDt333iOY7RVjlJXJhTSqF1UCt+\n",
       "PcGoL1Y74rD2XoGSAEstEQQyb8SobtSPiMj0AMGy9w5NehfORZRR6njeNyM/k6k+QPBzBtFmrUnP\n",
       "M4ikBd9+fQeVRXrwHBBt0QfGhDEvfehatuOwgw5gRHNk8EevuWdhQxPMXjJ2zj/RMA1jACZnRbq3\n",
       "c1e29LiXygokE/kSMth+85HyZeHgQBj1Qcjia6i2vHq+97u0DP6qbVGGbJMC8tvVsqpvoKM1Tydt\n",
       "XLFDRRttbekAAACoAZ5VakN/AAlteq3LN3O+HCQ0AGbl/eEeyUzP6wsZoEpM2JC+FaS/cxIHfyHY\n",
       "7dN6Nie4J9sN6a94fHTsSDkS8BrHOCA5W2KmqMS3rDtqnBZPzd25alY3FTVR12lX4j8dOTI575Kr\n",
       "gK3KQPkVaCoh6JMH6Sf7+vYGI/IiQihUBAPEPwHfQrMTRIHhT3Knuc7oD0Sqpd2jpD/QMA6FcTXa\n",
       "QmVlOzURsJuAAAACNkGaWUnhDyZTAh///qmWAA1XF3dKwAqCShqPvGkgBLrOYNdztPxfElYrUP3G\n",
       "Rf0sW4RoEFx1QrTeVHuRLKEWEiHxniXymr8LSJWyHJ5noV6LeFtfQdXpeA4UVY3Tcy4jyTWxKOyS\n",
       "r3oVSoKagwjOAerTnOpL395l1U7sjm1x0o6TpWgP2/bg90X82pTm0nIZOwnH97OXkve1kaN+UHET\n",
       "TWU7JBRoOTj/gC35eEiXNMj6ad3GMezULCUh9G4T/kXzD5vUvZCRbNsWXG/alWiHJ7gUbvJttA6N\n",
       "Nq4Tko6bE8+gVmESGR4ge60/5KtfnHjvmhOcpCzZUySDzm9t4Vh8f6TrX8DwJ4aD9S4j5A3TVgVc\n",
       "NUiRv/+aHhASF51tldv0GROm6ND9RlGUBFFVDdKB9RrBz/ikYZ9yBawmmGi6kluvRNtlQiEX/rVl\n",
       "/yUPsKhCZWHUmhqiyoMUDU3YCHd6RBw7NCthIBKXlPgRu2e0q9LdXuvxAvuhQFqgrfv63WuhwzBW\n",
       "qNLZYlgVkvyy70d2E/8n7ddgCYqFQL3gevL8kSmEq8wK59NaHCwbQok2GTjMKdm1WJiKxvwfAqW6\n",
       "jy1kkA3LfweDcdY60sbBZ1qmRRdYAJxskD8GvcV4EvYEquq1knsLSlWqoPkxrUziQXdZXUcBTHKp\n",
       "B/je0qBntf595Lmhb02sSQ56PyrNB4dd1e0mQkIqlzXyTCnDRKyr7rWQCj+GNBOvg4BzsVZynp+c\n",
       "aPZ7B09fp2BBAAABN0Ged0URPDf/AAltsG74y3RgEP25c8lwAe7F7GKA0fWRE/sI10Z3eqyUdiFy\n",
       "+3Nfv4h4fAhILJgaAYHhC/Dvg6/6c9Gvz3FaXyAUHEHIVkh7QyJHogRSjFHhpfBQiqpHM9l6oUvp\n",
       "qsaBmrciDMqGF7QF/W74+UvxzViUVBPXdE0Q8H3FFb5PzKsw+NXF1eqtkd/MnayaT6m1x/Ym9R4j\n",
       "uq8QgLk3w1A9c74Fqzb39L1h0qbR8mUNCgcR3toJ9FGc0u1zvDtYSQFAyZvytTkfxV8ceCU/V0WT\n",
       "hxU+tU+IKAmgaLHYLedGHhp6y39Eu/83AvuFKnlnEmhwyECmKvHXxZxYcp1xRe+sjLaIDz9DxsiZ\n",
       "gC+rISvEP2LHW87TySmdermAB3z/QR0Nu7VH4Yz5krO85w5uBMGhAAABDwGemGpDfwAJZfeXmkXo\n",
       "AJUCw+jHQaHaM4D6fgi69NJs7UZBe2g0CfvT/WpSRHvSEE+nmXsqq/S2yx28IbmnwahI3SrfpzCw\n",
       "epDVdqeMo0VbPk3O5MUJcN589iEf4R++K6cwHsGtLA+x7Bkjs9ZuoPz6BzXqRsfDGX+SxQo3ebY6\n",
       "3sZSxTeiJxFgl++0m2yR8oNFdj6tZXGTaOoRWuFetCnFelcw9VGsFz083YNqNRoQ1nMp6QikHYFb\n",
       "/uHZ/UsU73+moqOzxSzJVtMBZpgnFS2i5bnmxWAvcAmFbOmbQ7JxMbEZok85ARRFDNwBLDNNFnpI\n",
       "kUl2Q7qQ8VHyCp9Mll49ZKdq8FDmJX8YHq8VAVMAAAFZQZqaSahBaJlMCH///qmWAA1Em95rCAFt\n",
       "3a2VtjbtNC7EkHPvore88ydzMLBHkP3JkSvMHlabOTMwP58X+Rb+yvIgRe/9+AGrC3OWDn6R5oxd\n",
       "4JsbiR4cj7uXOPDpH9sMWQLA4wYVLY2QP0xD5zSBbLA/MIKLDDrOgngOP6xQK0j2dv+EtCfhsMcs\n",
       "BiRgJmxQo/OS+qfHuy280XOh8BBVF2uw1fWXXhNBr/jqToCksj+IXFo6kE7oT8DwSXeuQxj6MQD/\n",
       "E7wbam9oSatn/mkhBeW9hgs39f/ylOYnr0JsvCfpIgmTlidvzYvdl7WXwvgEYB0iaDchMpXl5YYS\n",
       "5XnFgy/56lR+qfdkndFq7OlHRAHVXKeLktlgTUnGn6iXjUYndM4BSoQ5BVyPwqGle0JLW3SWTJzO\n",
       "HwlpiB3IHBOzGm47PJ3Vk/qQmOGuab2cJ3Fwkjjv4bsUh8PJAAABTUGau0nhClJlMCH//qmWABlv\n",
       "68IzFvcdfC/v17Rb90l2EF7BihKy2BnDmDq7VXhixgRu/aDlJuhFYdgls7HLPL5/bhmhGpWQ+MpS\n",
       "cC3b0mOrbOTjPlJqEWfIZIXdzOewhNZOLlXGTQx2x8pO4PMHhyq2VWtPMX86K5oEZc5e6Ma6OuNq\n",
       "tghhV2l2TQjOArtMr3S58/vXEu4Du6OFLV09ZleS+RcpJhA6q3gdgEwTd5KEtAVkvUfocnJ/RHLF\n",
       "X2g5p7Lv3IHHe4P86omyDTmUnIcaq6zjDEUN5JjMM7Br63/3oFML5C/3BjHHEdtxbcNc+g4cwyCI\n",
       "M+TCp4ULD/9Sd6U7loJzZzHp8N9imH4SijhHVIfcGibH72/pB3r7KWZpTf8vsAwqgeZm97WuZhOR\n",
       "rgFR2dyB1zrgFIz5pKneONPn0bFN/CfsYso/87TjgAAAAUJBmtxJ4Q6JlMCH//6plgAZSP3QhoAJ\n",
       "qBtAF8dtfJFfaotXXr8dMsdK+Not+vSqBP1IqiHyJ7qRiWfyxLY1iGL4VBCmyrOGN5Ov0OPG4hLi\n",
       "RRwFkzXyDSYJOaagEPvJ37nS1fxfpoQgM46U1iWLpMUk5QSzkWFt508phWOGaJNGWd+uJKetZYaE\n",
       "p8Wk4koLc5PBrgWM8IpGMMN14TGPIQEVO04A6+SnC0+6VLkqkePBqzbljx9l8Ygy2WRWZEdxcBRm\n",
       "2A7l3sQMSqQcCVae4R5xuUuZC7NrDClnsq0ajG+ifKxjqY66xQfhRdk1xj+iDyhTIFXL/biBaMaX\n",
       "qj1mY/AjhO4ryh1OsftgjZgHBZMfnVCxvmOKa+LAu3vxhTK3sY0pY5Y77ir4cRk1S/L2/GzVK+xx\n",
       "MLyXPbMAGXBwAR1GOO+RAAABDEGa/UnhDyZTAh///qmWABlI8ViNEAJZlKNt3cHG33MpqYO7TLRm\n",
       "5HufUJ1/Qv/0cT6YWoUHF1ZpHtNgA0Fcaex68x3ylAlLtdM04V/9quThWyg8VltWrSrg8isCG57g\n",
       "UHCOyaVmIbIZMhcGVzMUd0RMSRZfOms0797s7auz8VNYxgwSE57Dc/Ev/JQCKYXPkFXq5joEnnFz\n",
       "GXCqMFlOx1tAPP+syGNFsJ502AFe+XVCOCHKh1b3s/b+aCv9WJdEVa5DW014NP/us906HdQUf51W\n",
       "XWQyjJ3ghqizDjJTbtAJ3YSPUBHDs47AlYel1FEPK50FPmC6fPpanl8tvkg1IFGrYWJytYXGRIsa\n",
       "CSkAAAEDQZseSeEPJlMCHf/+qZYAGWgy7awLgBLLfaZmHFcrRU/k3EJozjv03vbo6GxxGsta4T+9\n",
       "IKSsEYEGVh+C5K8wTKtHI6PLNgKjFU0z0KbB1P0rqgu6weKy6Kosj/z44RWSD2X0k6wEGHRyESmj\n",
       "/fvkgk4RslqJKY9vApWIG+LN3On1IAW5T0DS8e5lj85sgQ9Ia7ViWKIOIWFQ+32BdrVdMidmQX0v\n",
       "tE66linimCGU49TgiiDSpIE2V7BcdvdSwX1s5e8z+2POkLBXX5XAX1Al1NBbA3tCvZN3fzOaEtmp\n",
       "DnrrPWPbwNivapoNHUpRu1LARUTdqptn+ptof7a9Ph4MP7p/gAAAAMtBmz9J4Q8mUwIb//6nhAAy\n",
       "N9SENtuQAmH8th0POPdudi0QXCeWeE+RxGmo/P2TPtHrJF9q8yUTLWVd+Ohx+wCX/9bv2ERyTddh\n",
       "IQq/fPcDZOgVI0cTqo+GrHen5plfeLV0BznfhX7G+DuB6IDL5FohkQT+JyYWF0lGKLB0AkOtJkJO\n",
       "HEz3qZxHR5jDEHN/3ooZ9HMmVRYv9C/nwGCtEZj3X9aFlT4O/5aB3s6X8jMMcX0MZBKNyPaVLk6J\n",
       "VS1w2t9x5KG0KjJwTyymgAAABDJtb292AAAAbG12aGQAAAAAAAAAAAAAAAAAAAPoAAAMgAABAAAB\n",
       "AAAAAAAAAAAAAAAAAQAAAAAAAAAAAAAAAAAAAAEAAAAAAAAAAAAAAAAAAEAAAAAAAAAAAAAAAAAA\n",
       "AAAAAAAAAAAAAAAAAAAAAAACAAADXHRyYWsAAABcdGtoZAAAAAMAAAAAAAAAAAAAAAEAAAAAAAAM\n",
       "gAAAAAAAAAAAAAAAAAAAAAAAAQAAAAAAAAAAAAAAAAAAAAEAAAAAAAAAAAAAAAAAAEAAAAABkAAA\n",
       "AZAAAAAAACRlZHRzAAAAHGVsc3QAAAAAAAAAAQAADIAAAAgAAAEAAAAAAtRtZGlhAAAAIG1kaGQA\n",
       "AAAAAAAAAAAAAAAAACgAAACAAFXEAAAAAAAtaGRscgAAAAAAAAAAdmlkZQAAAAAAAAAAAAAAAFZp\n",
       "ZGVvSGFuZGxlcgAAAAJ/bWluZgAAABR2bWhkAAAAAQAAAAAAAAAAAAAAJGRpbmYAAAAcZHJlZgAA\n",
       "AAAAAAABAAAADHVybCAAAAABAAACP3N0YmwAAAC3c3RzZAAAAAAAAAABAAAAp2F2YzEAAAAAAAAA\n",
       "AQAAAAAAAAAAAAAAAAAAAAABkAGQAEgAAABIAAAAAAAAAAEAAAAAAAAAAAAAAAAAAAAAAAAAAAAA\n",
       "AAAAAAAAAAAAAAAY//8AAAA1YXZjQwFkABX/4QAYZ2QAFazZQZDOhAAAAwAEAAADAFA8WLZYAQAG\n",
       "aOvjyyLA/fj4AAAAABx1dWlka2hA8l8kT8W6OaUbzwMj8wAAAAAAAAAYc3R0cwAAAAAAAAABAAAA\n",
       "IAAABAAAAAAUc3RzcwAAAAAAAAABAAAAAQAAAJBjdHRzAAAAAAAAABAAAAACAAAIAAAAAAEAAAwA\n",
       "AAAAAQAABAAAAAABAAAMAAAAAAEAAAQAAAAAAQAAEAAAAAACAAAEAAAAAAUAAAgAAAAAAQAAEAAA\n",
       "AAACAAAEAAAAAAQAAAgAAAAAAQAADAAAAAABAAAEAAAAAAEAABAAAAAAAgAABAAAAAAGAAAIAAAA\n",
       "ABxzdHNjAAAAAAAAAAEAAAABAAAAIAAAAAEAAACUc3RzegAAAAAAAAAAAAAAIAAAE6sAAAFJAAAB\n",
       "jwAAAMUAAAF/AAABRAAAAWoAAAFDAAABDAAAAWgAAAEIAAABZAAAAToAAAE1AAACAgAAAP4AAACw\n",
       "AAABMwAAAWsAAAF+AAABYQAAAhEAAACsAAACOgAAATsAAAETAAABXQAAAVEAAAFGAAABEAAAAQcA\n",
       "AADPAAAAFHN0Y28AAAAAAAAAAQAAADAAAABidWR0YQAAAFptZXRhAAAAAAAAACFoZGxyAAAAAAAA\n",
       "AABtZGlyYXBwbAAAAAAAAAAAAAAAAC1pbHN0AAAAJal0b28AAAAdZGF0YQAAAAEAAAAATGF2ZjU5\n",
       "LjI3LjEwMA==\n",
       "\">\n",
       "  Your browser does not support the video tag.\n",
       "</video>"
      ],
      "text/plain": [
       "<matplotlib.animation.FuncAnimation at 0x12c715540>"
      ]
     },
     "execution_count": 29,
     "metadata": {},
     "output_type": "execute_result"
    },
    {
     "data": {
      "text/plain": [
       "<Figure size 640x480 with 0 Axes>"
      ]
     },
     "metadata": {},
     "output_type": "display_data"
    }
   ],
   "source": [
    "p_vis = stack([trajectory_p, target_time], instance(\"points\"))\n",
    "\n",
    "vis.plot(p_vis,\n",
    "        color = wrap(['blue', 'red'], instance(p_vis)[\"points\"]),\n",
    "        animate='time',\n",
    "        same_scale=False,\n",
    "        size=(4,4)\n",
    ")"
   ]
  },
  {
   "cell_type": "markdown",
   "id": "214311b4",
   "metadata": {},
   "source": [
    "# Compare Results with Advection of Smoke Marker"
   ]
  },
  {
   "cell_type": "code",
   "execution_count": 30,
   "id": "f9a7dc85",
   "metadata": {},
   "outputs": [],
   "source": [
    "def init_smoke():\n",
    "    smoke = CenteredGrid(\n",
    "        Box['x,y', 0.5:1.5, 0.5:1.5], \n",
    "        extrapolation.BOUNDARY, \n",
    "        x=100, y=100, \n",
    "        bounds=DOMAIN\n",
    "    )\n",
    "    return smoke"
   ]
  },
  {
   "cell_type": "code",
   "execution_count": 31,
   "id": "f8c47ce0",
   "metadata": {},
   "outputs": [
    {
     "name": "stdout",
     "output_type": "stream",
     "text": [
      "Simulation finished in 3.838118076324463 seconds\n"
     ]
    }
   ],
   "source": [
    "eigenfluid.w = w_optim\n",
    "\n",
    "velocity = eigenfluid.reconstruct_velocity()\n",
    "smoke = init_smoke()\n",
    "\n",
    "vel_traj = [velocity]\n",
    "w_traj = [eigenfluid.w]\n",
    "smoke_traj = [smoke]\n",
    "\n",
    "start_time = time.time()\n",
    "for i in range(STEPS-1):\n",
    "    # Simulate\n",
    "    eigenfluid.w = eigenfluid.step_w_euler(eigenfluid.w, DT, viscosity=VISCOSITY)\n",
    "    velocity = eigenfluid.reconstruct_velocity()\n",
    "    smoke = advect.mac_cormack(smoke, velocity, dt=DT)\n",
    "    # Save trajectory\n",
    "    vel_traj.append(velocity)\n",
    "    w_traj.append(eigenfluid.w)\n",
    "    smoke_traj.append(smoke)\n",
    "end_time = time.time()\n",
    "print(\"Simulation finished in {} seconds\".format(end_time-start_time))"
   ]
  },
  {
   "cell_type": "code",
   "execution_count": null,
   "id": "d6026584",
   "metadata": {
    "scrolled": false
   },
   "outputs": [],
   "source": [
    "trajectory_v = math.stack(vel_traj, batch('time'))\n",
    "#trajectory_curl = math.stack(trajectory_curl, batch('time'))\n",
    "trajectory_smoke = math.stack(smoke_traj, batch('time'))\n",
    "trajectory_w = math.stack(list(map(get_w_point_cloud, [w*10 for w in w_traj])), batch('time'))\n",
    "\n",
    "p_vis = stack([trajectory_p, target_time], instance(\"points\"))\n",
    "\n",
    "vis.plot({\n",
    "    \"Blue points: simulated points\\nRed points: target points\\nOverlayed with independent\\nhigh-res smoke sim.\": \n",
    "    vis.overlay(\n",
    "        trajectory_smoke,\n",
    "        PointCloud(p_vis),\n",
    "    ),\n",
    "    \"Velocity Field\": trajectory_v,\n",
    "    \"w basis coefficients \\n(*10 for visualization)\": trajectory_w\n",
    "}, animate='time', same_scale=False, color=wrap([\"blue\", \"red\"], instance(p_vis)[\"points\"]))"
   ]
  },
  {
   "cell_type": "code",
   "execution_count": null,
   "id": "63de44d5",
   "metadata": {},
   "outputs": [],
   "source": [
    "import pylab\n",
    "\n",
    "pylab.subplots(1, 9, sharey='row', sharex='col', figsize=(12, 7))\n",
    "pylab.tight_layout(w_pad=0)\n",
    "for t in range(9):\n",
    "    pylab.subplot(1, 9, (t+1))\n",
    "    if t == 8:\n",
    "        pylab.title('target\\nt=15')\n",
    "        pylab.imshow(shape_target.get_smoke().values - trajectory_smoke.time[-1].values, origin='upper')\n",
    "    else:\n",
    "        pylab.title('t={}'.format(t*2))\n",
    "        pylab.imshow(trajectory_smoke.time[(t*2)].values, origin='upper')"
   ]
  }
 ],
 "metadata": {
  "kernelspec": {
   "display_name": "Python 3 (ipykernel)",
   "language": "python",
   "name": "python3"
  },
  "language_info": {
   "codemirror_mode": {
    "name": "ipython",
    "version": 3
   },
   "file_extension": ".py",
   "mimetype": "text/x-python",
   "name": "python",
   "nbconvert_exporter": "python",
   "pygments_lexer": "ipython3",
   "version": "3.10.8"
  }
 },
 "nbformat": 4,
 "nbformat_minor": 5
}
